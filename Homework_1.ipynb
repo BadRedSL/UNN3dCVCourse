{
 "cells": [
  {
   "cell_type": "markdown",
   "metadata": {},
   "source": [
    "### Задача №1"
   ]
  },
  {
   "cell_type": "markdown",
   "metadata": {},
   "source": [
    "Найти ближайшую ортогональную матрицу (в смысле нормы\n",
    "Фробениуса) к матрице:\n",
    "\n",
    "$$ A = \\begin{pmatrix} 0.5 &  2.16506351 & 0.4330127\\\\\\ −0.8660254 & 1.25 & 0.25 \\\\\\ 0 & 0.5 & 2.5 \\end{pmatrix} $$\n",
    "\n",
    "Посмотрев на результат, найти соответствующие этому преобразованию угол и\n",
    "направление поворота. Матрицу, угол и направление поворота распечатать в\n",
    "stdout."
   ]
  },
  {
   "cell_type": "markdown",
   "metadata": {},
   "source": [
    "$$ \\argmin\\|A-B\\|$$\n",
    "\n",
    "$$где \\enspace B^TB=E, \\enspace тогда $$\n",
    "\n",
    "$$ A = UDV^T $$\n",
    "\n",
    "$$ B=UV^T $$"
   ]
  },
  {
   "cell_type": "code",
   "execution_count": 17,
   "metadata": {},
   "outputs": [
    {
     "data": {
      "text/plain": [
       "(matrix([[ 6.12e-01,  6.12e-01, -5.00e-01],\n",
       "         [ 3.54e-01,  3.54e-01,  8.66e-01],\n",
       "         [ 7.07e-01, -7.07e-01, -7.29e-10]]),\n",
       " array([3., 2., 1.]),\n",
       " matrix([[ 4.42e-10,  7.07e-01,  7.07e-01],\n",
       "         [ 1.18e-09,  7.07e-01, -7.07e-01],\n",
       "         [-1.00e+00,  1.15e-09, -5.21e-10]]))"
      ]
     },
     "execution_count": 17,
     "metadata": {},
     "output_type": "execute_result"
    }
   ],
   "source": [
    "import numpy as np\n",
    "np.set_printoptions(precision=2)\n",
    "\n",
    "A = np.matrix([[0.5, 2.16506351, 0.4330127],\n",
    "                [-0.8660254, 1.25, 0.25],\n",
    "                [0, 0.5, 2.5]])\n",
    "U, D, V_T = np.linalg.svd(A, full_matrices=True, compute_uv=True, hermitian=False)\n",
    "U, D, V_T"
   ]
  },
  {
   "cell_type": "code",
   "execution_count": 18,
   "metadata": {},
   "outputs": [
    {
     "name": "stdout",
     "output_type": "stream",
     "text": [
      "Ближайшая ортоганальная матрица:\n",
      "[[ 5.00e-01  8.66e-01 -3.88e-10]\n",
      " [-8.66e-01  5.00e-01  1.66e-11]\n",
      " [ 2.08e-10  3.28e-10  1.00e+00]]\n"
     ]
    }
   ],
   "source": [
    "B = np.dot(U, V_T)\n",
    "print(f\"Ближайшая ортоганальная матрица:\\n{B}\")"
   ]
  },
  {
   "cell_type": "markdown",
   "metadata": {},
   "source": [
    "Сделаем небольшую проверку:"
   ]
  },
  {
   "cell_type": "code",
   "execution_count": 19,
   "metadata": {},
   "outputs": [
    {
     "data": {
      "text/plain": [
       "matrix([[ 1.00e+00, -1.13e-17, -4.64e-17],\n",
       "        [-1.13e-17,  1.00e+00,  7.23e-17],\n",
       "        [-4.64e-17,  7.23e-17,  1.00e+00]])"
      ]
     },
     "execution_count": 19,
     "metadata": {},
     "output_type": "execute_result"
    }
   ],
   "source": [
    "np.dot(B.T, B)"
   ]
  },
  {
   "cell_type": "markdown",
   "metadata": {},
   "source": [
    "Как видим, произведение транспонированной матирцы на саму себя дает единичную матрицу."
   ]
  },
  {
   "cell_type": "code",
   "execution_count": 20,
   "metadata": {},
   "outputs": [
    {
     "data": {
      "text/plain": [
       "1.0000000000000004"
      ]
     },
     "execution_count": 20,
     "metadata": {},
     "output_type": "execute_result"
    }
   ],
   "source": [
    "np.linalg.det(B)"
   ]
  },
  {
   "cell_type": "markdown",
   "metadata": {},
   "source": [
    "Как и полагалось, определитель матрицы поворота равен единице."
   ]
  },
  {
   "cell_type": "markdown",
   "metadata": {},
   "source": [
    "Найденная матрица соответствует виду:\n",
    "\n",
    "$$ \\begin{pmatrix} \\cos\\phi &  -\\sin\\phi & 0\\\\\\\n",
    " \\sin\\phi & \\cos\\phi & 0 \\\\\\\n",
    "  0 & 0 & 1 \\end{pmatrix} $$\n",
    "\n",
    "  Что свидетельствует о том, что мы имеем дело с поворотом вокруг оси z против часовой стрелки на угол $300^o$."
   ]
  },
  {
   "cell_type": "markdown",
   "metadata": {},
   "source": [
    "### Задача №2"
   ]
  },
  {
   "cell_type": "markdown",
   "metadata": {},
   "source": [
    "При помощи SVD найти обратную матрицу к квадратной матрице nxn,\n",
    "состоящей из элементов\n",
    "\n",
    "$$ A_{ij} = \\frac{1}{i+j-1}$$\n",
    "\n",
    "для размеров матрицы n=3 и n=10. Результат распечатать в stdout.\n"
   ]
  },
  {
   "cell_type": "code",
   "execution_count": 21,
   "metadata": {},
   "outputs": [
    {
     "data": {
      "text/plain": [
       "matrix([[1.  , 0.5 , 0.33],\n",
       "        [0.5 , 0.33, 0.25],\n",
       "        [0.33, 0.25, 0.2 ]])"
      ]
     },
     "execution_count": 21,
     "metadata": {},
     "output_type": "execute_result"
    }
   ],
   "source": [
    "n=3\n",
    "A_3 = np.matrix([[1/(i+j-1) for j in range(1, n+1)] for i in range(1, n+1)])\n",
    "A_3"
   ]
  },
  {
   "cell_type": "code",
   "execution_count": 22,
   "metadata": {},
   "outputs": [
    {
     "name": "stdout",
     "output_type": "stream",
     "text": [
      "Обратная матрица:\n",
      "[[   9.  -36.   30.]\n",
      " [ -36.  192. -180.]\n",
      " [  30. -180.  180.]]\n"
     ]
    }
   ],
   "source": [
    "A_3_inv = np.linalg.pinv(A_3)\n",
    "print(f\"Обратная матрица:\\n{A_3_inv}\")"
   ]
  },
  {
   "cell_type": "code",
   "execution_count": 23,
   "metadata": {},
   "outputs": [
    {
     "data": {
      "text/plain": [
       "matrix([[1.  , 0.5 , 0.33, 0.25, 0.2 , 0.17, 0.14, 0.12, 0.11, 0.1 ],\n",
       "        [0.5 , 0.33, 0.25, 0.2 , 0.17, 0.14, 0.12, 0.11, 0.1 , 0.09],\n",
       "        [0.33, 0.25, 0.2 , 0.17, 0.14, 0.12, 0.11, 0.1 , 0.09, 0.08],\n",
       "        [0.25, 0.2 , 0.17, 0.14, 0.12, 0.11, 0.1 , 0.09, 0.08, 0.08],\n",
       "        [0.2 , 0.17, 0.14, 0.12, 0.11, 0.1 , 0.09, 0.08, 0.08, 0.07],\n",
       "        [0.17, 0.14, 0.12, 0.11, 0.1 , 0.09, 0.08, 0.08, 0.07, 0.07],\n",
       "        [0.14, 0.12, 0.11, 0.1 , 0.09, 0.08, 0.08, 0.07, 0.07, 0.06],\n",
       "        [0.12, 0.11, 0.1 , 0.09, 0.08, 0.08, 0.07, 0.07, 0.06, 0.06],\n",
       "        [0.11, 0.1 , 0.09, 0.08, 0.08, 0.07, 0.07, 0.06, 0.06, 0.06],\n",
       "        [0.1 , 0.09, 0.08, 0.08, 0.07, 0.07, 0.06, 0.06, 0.06, 0.05]])"
      ]
     },
     "execution_count": 23,
     "metadata": {},
     "output_type": "execute_result"
    }
   ],
   "source": [
    "n=10\n",
    "A_10 = np.matrix([[1/(i+j-1) for j in range(1, n+1)] for i in range(1, n+1)])\n",
    "A_10"
   ]
  },
  {
   "cell_type": "code",
   "execution_count": 24,
   "metadata": {},
   "outputs": [
    {
     "name": "stdout",
     "output_type": "stream",
     "text": [
      "Обратная матрица:\n",
      "[[ 1.00e+02 -4.95e+03  7.92e+04 -6.01e+05  2.52e+06 -6.31e+06  9.61e+06\n",
      "  -8.75e+06  4.38e+06 -9.24e+05]\n",
      " [-4.95e+03  3.27e+05 -5.88e+06  4.76e+07 -2.08e+08  5.35e+08 -8.32e+08\n",
      "   7.70e+08 -3.90e+08  8.31e+07]\n",
      " [ 7.92e+04 -5.88e+06  1.13e+08 -9.51e+08  4.28e+09 -1.12e+10  1.78e+10\n",
      "  -1.66e+10  8.51e+09 -1.83e+09]\n",
      " [-6.01e+05  4.76e+07 -9.51e+08  8.24e+09 -3.79e+10  1.01e+11 -1.62e+11\n",
      "   1.53e+11 -7.88e+10  1.71e+10]\n",
      " [ 2.52e+06 -2.08e+08  4.28e+09 -3.79e+10  1.77e+11 -4.77e+11  7.71e+11\n",
      "  -7.36e+11  3.82e+11 -8.32e+10]\n",
      " [-6.31e+06  5.35e+08 -1.12e+10  1.01e+11 -4.77e+11  1.30e+12 -2.12e+12\n",
      "   2.04e+12 -1.06e+12  2.33e+11]\n",
      " [ 9.61e+06 -8.32e+08  1.78e+10 -1.62e+11  7.71e+11 -2.12e+12  3.48e+12\n",
      "  -3.36e+12  1.77e+12 -3.88e+11]\n",
      " [-8.75e+06  7.70e+08 -1.66e+10  1.53e+11 -7.36e+11  2.04e+12 -3.36e+12\n",
      "   3.27e+12 -1.72e+12  3.80e+11]\n",
      " [ 4.38e+06 -3.90e+08  8.51e+09 -7.88e+10  3.82e+11 -1.06e+12  1.77e+12\n",
      "  -1.72e+12  9.12e+11 -2.02e+11]\n",
      " [-9.24e+05  8.31e+07 -1.83e+09  1.71e+10 -8.32e+10  2.33e+11 -3.88e+11\n",
      "   3.80e+11 -2.02e+11  4.49e+10]]\n"
     ]
    }
   ],
   "source": [
    "A_10_inv = np.linalg.pinv(A_10)\n",
    "print(f\"Обратная матрица:\\n{A_10_inv}\")"
   ]
  },
  {
   "cell_type": "markdown",
   "metadata": {},
   "source": [
    "### Задача №3"
   ]
  },
  {
   "cell_type": "markdown",
   "metadata": {},
   "source": [
    "Для квадратной матрицы nxn, состоящей из элементов\n",
    "\n",
    "$$ A_{ij} = i+j-1$$\n",
    "\n",
    "найти с использованием SVD все решения уравнений $AX=0$ для n=4 Результат\n",
    "распечатать в stdout."
   ]
  },
  {
   "cell_type": "markdown",
   "metadata": {},
   "source": [
    "$$ Если \\enspace A = UDV^T $$\n",
    "\n",
    "$$ тогда \\enspace X = V*diag(1/s_{ii})*U^T*B$$"
   ]
  },
  {
   "cell_type": "code",
   "execution_count": 25,
   "metadata": {},
   "outputs": [
    {
     "data": {
      "text/plain": [
       "matrix([[1, 2, 3, 4],\n",
       "        [2, 3, 4, 5],\n",
       "        [3, 4, 5, 6],\n",
       "        [4, 5, 6, 7]])"
      ]
     },
     "execution_count": 25,
     "metadata": {},
     "output_type": "execute_result"
    }
   ],
   "source": [
    "n=4\n",
    "A_4 = np.matrix([[i+j-1 for j in range(1, n+1)] for i in range(1, n+1)])\n",
    "A_4"
   ]
  },
  {
   "cell_type": "code",
   "execution_count": 26,
   "metadata": {},
   "outputs": [
    {
     "data": {
      "text/plain": [
       "array([[0.],\n",
       "       [0.],\n",
       "       [0.],\n",
       "       [0.]])"
      ]
     },
     "execution_count": 26,
     "metadata": {},
     "output_type": "execute_result"
    }
   ],
   "source": [
    "B = np.zeros((4, 1))\n",
    "B"
   ]
  },
  {
   "cell_type": "code",
   "execution_count": 27,
   "metadata": {},
   "outputs": [
    {
     "data": {
      "text/plain": [
       "(matrix([[-0.31, -0.78,  0.55,  0.04],\n",
       "         [-0.43, -0.34, -0.75,  0.36],\n",
       "         [-0.54,  0.09, -0.13, -0.83],\n",
       "         [-0.65,  0.52,  0.34,  0.43]]),\n",
       " array([1.72e+01, 1.17e+00, 1.11e-15, 4.76e-17]),\n",
       " matrix([[-0.31, -0.43, -0.54, -0.65],\n",
       "         [ 0.78,  0.34, -0.09, -0.52],\n",
       "         [ 0.38, -0.22, -0.71,  0.55],\n",
       "         [ 0.39, -0.81,  0.44, -0.02]]))"
      ]
     },
     "execution_count": 27,
     "metadata": {},
     "output_type": "execute_result"
    }
   ],
   "source": [
    "U, D, V_T = np.linalg.svd(A_4, full_matrices=True, compute_uv=True, hermitian=False)\n",
    "U, D, V_T"
   ]
  },
  {
   "cell_type": "code",
   "execution_count": 28,
   "metadata": {},
   "outputs": [
    {
     "data": {
      "text/plain": [
       "array([[5.83e-02, 0.00e+00, 0.00e+00, 0.00e+00],\n",
       "       [0.00e+00, 8.58e-01, 0.00e+00, 0.00e+00],\n",
       "       [0.00e+00, 0.00e+00, 9.01e+14, 0.00e+00],\n",
       "       [0.00e+00, 0.00e+00, 0.00e+00, 2.10e+16]])"
      ]
     },
     "execution_count": 28,
     "metadata": {},
     "output_type": "execute_result"
    }
   ],
   "source": [
    "D_1 = np.diagflat(1/D)\n",
    "D_1"
   ]
  },
  {
   "cell_type": "code",
   "execution_count": 29,
   "metadata": {},
   "outputs": [
    {
     "name": "stdout",
     "output_type": "stream",
     "text": [
      "Получили тривиальное решение:\n",
      "[[0.]\n",
      " [0.]\n",
      " [0.]\n",
      " [0.]]\n"
     ]
    }
   ],
   "source": [
    "X = V_T.T.dot(D_1).dot(U.T).dot(B)\n",
    "print(f\"Получили тривиальное решение:\\n{X}\")"
   ]
  },
  {
   "cell_type": "code",
   "execution_count": 32,
   "metadata": {},
   "outputs": [
    {
     "data": {
      "text/plain": [
       "matrix([[ 0.38,  0.39],\n",
       "        [-0.22, -0.81],\n",
       "        [-0.71,  0.44],\n",
       "        [ 0.55, -0.02]])"
      ]
     },
     "execution_count": 32,
     "metadata": {},
     "output_type": "execute_result"
    }
   ],
   "source": [
    "a = np.where(np.isclose(D, 0))[0]\n",
    "solutions = V_T.T[:, a]\n",
    "solutions"
   ]
  },
  {
   "cell_type": "markdown",
   "metadata": {},
   "source": [
    "### Задача №4"
   ]
  },
  {
   "cell_type": "markdown",
   "metadata": {},
   "source": [
    " Написать программу, находящую все точки пересечения двух прямых на\n",
    "плоскости методом однородных координат. Прямые заданы уравнениями ax+by+c\n",
    "= 0, cx+dy+e=0. Коэффициенты задать константами на ваше усмотрение. Результат\n",
    "распечатать в stdout.\n"
   ]
  },
  {
   "cell_type": "code",
   "execution_count": null,
   "metadata": {},
   "outputs": [
    {
     "data": {
      "text/plain": [
       "(-0.4444444444444444, -0.6111111111111112, 1.0)"
      ]
     },
     "execution_count": 14,
     "metadata": {},
     "output_type": "execute_result"
    }
   ],
   "source": [
    "a, b, c = 4, 2, 3\n",
    "c, d, e = 3, 6, 5\n",
    "\n",
    "x, y, z = b*e-d*c, c*c-a*e, a*d-c*b\n",
    "x/z, y/z, z/z"
   ]
  }
 ],
 "metadata": {
  "kernelspec": {
   "display_name": "Python 3.9.11 64-bit",
   "language": "python",
   "name": "python3"
  },
  "language_info": {
   "codemirror_mode": {
    "name": "ipython",
    "version": 3
   },
   "file_extension": ".py",
   "mimetype": "text/x-python",
   "name": "python",
   "nbconvert_exporter": "python",
   "pygments_lexer": "ipython3",
   "version": "3.9.11"
  },
  "orig_nbformat": 4,
  "vscode": {
   "interpreter": {
    "hash": "ba4c651cdc5ec17c511bce19f294202fdc45305f9de1f927c569f32faa173ead"
   }
  }
 },
 "nbformat": 4,
 "nbformat_minor": 2
}
