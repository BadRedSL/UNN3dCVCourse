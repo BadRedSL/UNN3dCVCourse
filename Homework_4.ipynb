{
 "cells": [
  {
   "cell_type": "markdown",
   "metadata": {},
   "source": [
    "### Задача №17"
   ]
  },
  {
   "cell_type": "markdown",
   "metadata": {},
   "source": [
    "Первая камера находится в начале координат, ее оптическая ось\n",
    "направлена вдоль оси z. Вторая камера сдвинута относительно первой на 1 в\n",
    "направлении оси x. Матрицы внутренних параметров обеих камер единичные.\n",
    "Сгенерировать случайный набор точек в трехмерном пространстве с z>0,\n",
    "спроектировать их на обе камеры (cv2.projectPoints), по проекциям найти\n",
    "необходимую матрицу (cv2.findEssentialMat)"
   ]
  },
  {
   "cell_type": "code",
   "execution_count": 1,
   "metadata": {},
   "outputs": [],
   "source": [
    "import numpy as np\n",
    "import math\n",
    "import cv2"
   ]
  },
  {
   "cell_type": "code",
   "execution_count": 2,
   "metadata": {},
   "outputs": [],
   "source": [
    "K1 = np.matrix([[1, 0, 0],\n",
    "                [0, 1, 0],\n",
    "                [0, 0, 1]], dtype=np.float64)\n",
    "\n",
    "K2 = np.matrix([[1, 0, 0],\n",
    "                [0, 1, 0],\n",
    "                [0, 0, 1]], dtype=np.float64)\n",
    "                \n",
    "R1 = np.matrix([[1, 0, 0],\n",
    "                [0, 1, 0],\n",
    "                [0, 0, 1]], dtype=np.float64)\n",
    "                \n",
    "R2 = np.matrix([[1, 0, 0],\n",
    "                [0, 1, 0],\n",
    "                [0, 0, 1]], dtype=np.float64)\n",
    "\n",
    "T1 = np.array([0, 0, 0], dtype=np.float64)\n",
    "T2 = np.array([-1, 0, 0], dtype=np.float64)"
   ]
  },
  {
   "cell_type": "code",
   "execution_count": 3,
   "metadata": {},
   "outputs": [],
   "source": [
    "points_3d = np.random.uniform(0, 100, size=(1000, 3))\n",
    "project_points_1, _ = cv2.projectPoints(points_3d, R1, T1, K1, np.array([0, 0, 0, 0],dtype=np.float64))\n",
    "project_points_2, _ = cv2.projectPoints(points_3d, R2, T2, K2, np.array([0, 0, 0, 0],dtype=np.float64))\n"
   ]
  },
  {
   "cell_type": "code",
   "execution_count": 4,
   "metadata": {},
   "outputs": [
    {
     "name": "stdout",
     "output_type": "stream",
     "text": [
      "Essential matrix: \n",
      "[[ 1.41541951e-13  5.11440136e-12  2.76841593e-11]\n",
      " [-5.05159905e-12  1.05520265e-13 -7.07106781e-01]\n",
      " [-2.75892411e-11  7.07106781e-01  7.92562211e-14]]\n"
     ]
    }
   ],
   "source": [
    "E, _ = cv2.findEssentialMat(project_points_1, project_points_2, K1)\n",
    "print(f\"Essential matrix: \\n{E}\")"
   ]
  },
  {
   "cell_type": "markdown",
   "metadata": {},
   "source": [
    "### Задача №18"
   ]
  },
  {
   "cell_type": "markdown",
   "metadata": {},
   "source": [
    "По необходимой матрице найти все возможные позы первой камеры\n",
    "относительно второй, для этого использовать cv2.decomposeEssentialMat. Из\n",
    "получившихся 4 решений выбрать одно, используя условие, что трехмерные точки\n",
    "(сгенерированные в задаче 17) должны находиться в области видимости камер"
   ]
  },
  {
   "cell_type": "code",
   "execution_count": 5,
   "metadata": {},
   "outputs": [
    {
     "data": {
      "text/plain": [
       "(array([[ 1.00000000e+00, -1.34234615e-13,  8.88158748e-14],\n",
       "        [ 1.32532714e-13,  1.00000000e+00,  1.30673250e-13],\n",
       "        [-8.82780889e-14, -1.30645495e-13,  1.00000000e+00]]),\n",
       " array([[ 1.00000000e+00,  7.81683924e-11, -1.43768957e-11],\n",
       "        [ 7.81666905e-11, -1.00000000e+00, -1.30673250e-13],\n",
       "        [-1.43763579e-11,  1.30645494e-13, -1.00000000e+00]]),\n",
       " array([[ 1.00000000e+00],\n",
       "        [ 3.91496116e-11],\n",
       "        [-7.23231798e-12]]))"
      ]
     },
     "execution_count": 5,
     "metadata": {},
     "output_type": "execute_result"
    }
   ],
   "source": [
    "r1, r2, t = cv2.decomposeEssentialMat(E)\n",
    "r1, r2, t"
   ]
  },
  {
   "cell_type": "code",
   "execution_count": 6,
   "metadata": {},
   "outputs": [
    {
     "name": "stdout",
     "output_type": "stream",
     "text": [
      "True R: \n",
      "[[ 1.00000000e+00 -1.34234615e-13  8.88158748e-14]\n",
      " [ 1.32532714e-13  1.00000000e+00  1.30673250e-13]\n",
      " [-8.82780889e-14 -1.30645495e-13  1.00000000e+00]]\n",
      "\n",
      "True T: \n",
      "[[-1.00000000e+00 -3.91496116e-11  7.23231798e-12]]\n"
     ]
    }
   ],
   "source": [
    "P1 = np.concatenate((K1, np.zeros((3,1))), axis=1)\n",
    "for rotation, translation in [(r1, t), (r1, -t), (r2, t), (r2, -t)]:\n",
    "    P2 = np.dot(K2, np.concatenate((rotation, translation), axis=1))\n",
    "    obj_pt = cv2.triangulatePoints(P1, P2, project_points_1, project_points_2)\n",
    "    obj_pt /= obj_pt[3]\n",
    "    if (obj_pt >= 0).all():\n",
    "        print(f\"True R: \\n{rotation}\\n\")\n",
    "        print(f\"True T: \\n{translation.T}\")\n",
    "        break"
   ]
  },
  {
   "cell_type": "markdown",
   "metadata": {},
   "source": [
    "### Задача №19"
   ]
  },
  {
   "cell_type": "markdown",
   "metadata": {},
   "source": [
    "Найти матрицу внутренних параметров камеры изображения\n",
    "https://drive.google.com/file/d/1mC0PI9k4q_wJt9iAn6uosEVSJb9PcZIk/view?usp=sharing, предполагая, что оптическая ось проходит строго через центр изображения, а\n",
    "фокусное расстояние в эквиваленте 35мм равно 0.64 дюйма. Почему результат\n",
    "отличается от параметров, полученных методом калибрации камеры\n",
    "https://drive.google.com/file/d/1A4H84PLy7971Xd1ErS1bRRupWk9_TCYI/view?usp=sharing? "
   ]
  },
  {
   "cell_type": "code",
   "execution_count": 16,
   "metadata": {},
   "outputs": [
    {
     "name": "stdout",
     "output_type": "stream",
     "text": [
      "Матрица внутренних параметров камеры:\n",
      "[[433.49333333   0.         480.        ]\n",
      " [  0.         365.76       270.        ]\n",
      " [  0.           0.           1.        ]]\n"
     ]
    }
   ],
   "source": [
    "def camera_matrix(focal_length_inch, image_width, image_height):\n",
    "    focal_length_mm = focal_length_inch * 25.4 \n",
    "    fx = image_width * focal_length_mm/ 36\n",
    "    fy = image_height * focal_length_mm/ 24 \n",
    "    cx = image_width / 2\n",
    "    cy = image_height / 2\n",
    "\n",
    "    K = np.array([[fx, 0, cx],\n",
    "                  [0, fy, cy],\n",
    "                  [0, 0, 1]])\n",
    "    return K\n",
    "\n",
    "img = cv2.cvtColor(cv2.imread(\"./Resourses/image.jpg\"), cv2.COLOR_RGB2BGR)\n",
    "\n",
    "image_height = img.shape[0]\n",
    "image_width = img.shape[1]\n",
    "focal_length_inch = 0.64\n",
    "\n",
    "K = camera_matrix(focal_length_inch, image_width, image_height)\n",
    "print(f\"Матрица внутренних параметров камеры:\\n{K}\")"
   ]
  },
  {
   "cell_type": "code",
   "execution_count": 13,
   "metadata": {},
   "outputs": [
    {
     "name": "stdout",
     "output_type": "stream",
     "text": [
      "Матрица камеры:\n",
      "[[425.81152   0.      481.75803]\n",
      " [  0.      435.33255 267.43704]\n",
      " [  0.        0.        1.     ]]\n"
     ]
    }
   ],
   "source": [
    "import xml.etree.ElementTree as ET\n",
    "\n",
    "xml_file = ET.parse(f'./Resourses/camera.xml')\n",
    "root = xml_file.getroot()\n",
    "\n",
    "xml_iter = root.iter(\"data\")\n",
    "camera_matrix = np.array(next(xml_iter).text.split(), np.float32).reshape(3, 3)\n",
    "distortion_coefficients = np.array(next(xml_iter).text.split(), np.float32).reshape(14)\n",
    "\n",
    "print(f\"Матрица камеры:\\n{camera_matrix}\")"
   ]
  },
  {
   "cell_type": "markdown",
   "metadata": {},
   "source": [
    "Различия возможны из-за того, что метод каллибровки учитывает искажения линзы. Плюс реальный центр изображеняи может отличаться от высчитанного теоретически."
   ]
  }
 ],
 "metadata": {
  "kernelspec": {
   "display_name": "Python 3.9.12 64-bit",
   "language": "python",
   "name": "python3"
  },
  "language_info": {
   "codemirror_mode": {
    "name": "ipython",
    "version": 3
   },
   "file_extension": ".py",
   "mimetype": "text/x-python",
   "name": "python",
   "nbconvert_exporter": "python",
   "pygments_lexer": "ipython3",
   "version": "3.9.12"
  },
  "orig_nbformat": 4,
  "vscode": {
   "interpreter": {
    "hash": "ba4c651cdc5ec17c511bce19f294202fdc45305f9de1f927c569f32faa173ead"
   }
  }
 },
 "nbformat": 4,
 "nbformat_minor": 2
}
