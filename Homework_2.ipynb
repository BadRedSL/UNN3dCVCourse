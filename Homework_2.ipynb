{
 "cells": [
  {
   "cell_type": "markdown",
   "metadata": {},
   "source": [
    "### Задача №1"
   ]
  },
  {
   "cell_type": "markdown",
   "metadata": {},
   "source": [
    "Камера повернута относительно мировой системы координат на 45\n",
    "градусов вокруг оси z и сдвинута на 10 вдоль оси z мировой системы координат.\n",
    "Внутренние параметры камеры: fx=fy=400, cx=960, cy=540. Написать программу,\n",
    "которая выводит на экран матрицу проекции камеры и целочисленные\n",
    "координаты пикселя на изображении, соответствующего трехмерной точке с\n",
    "координатами (10, -10, 100) в мировой системе координат.\n"
   ]
  },
  {
   "cell_type": "markdown",
   "metadata": {},
   "source": [
    "$$ w\\begin{pmatrix} u\\\\\\ v\\\\\\ 1 \\end{pmatrix} = P\\begin{pmatrix} X_0 \\\\\\\n",
    "Y_0 \\\\\\ Z_0 \\\\\\ 1 \\end{pmatrix} $$\n",
    "\n",
    "$$ P = K[R|T] $$\n",
    "\n",
    "$$ K = \\begin{pmatrix} f_x & 0 & c_x \\\\\\\n",
    " 0 & f_y & c_x\\\\\\ 0 & 0 & 1 \\end{pmatrix}"
   ]
  },
  {
   "cell_type": "code",
   "execution_count": 15,
   "metadata": {},
   "outputs": [
    {
     "name": "stdout",
     "output_type": "stream",
     "text": [
      "Матрица проекции камеры:\n",
      "[[ 2.82842712e+02 -2.82842712e+02  9.60000000e+02  9.60000000e+03]\n",
      " [ 2.82842712e+02  2.82842712e+02  5.40000000e+02  5.40000000e+03]\n",
      " [ 0.00000000e+00  0.00000000e+00  1.00000000e+00  1.00000000e+01]]\n"
     ]
    }
   ],
   "source": [
    "import numpy as np\n",
    "import math\n",
    "\n",
    "K = np.matrix([[400, 0, 960],\n",
    "                [0, 400, 540],\n",
    "                [0, 0, 1]])\n",
    "\n",
    "RT = np.matrix([[math.cos(math.pi/4), -math.sin(math.pi/4), 0, 0],\n",
    "                [math.sin(math.pi/4), math.cos(math.pi/4), 0, 0],\n",
    "                [0, 0, 1, 10]])\n",
    "\n",
    "P = K.dot(RT)\n",
    "\n",
    "print(f\"Матрица проекции камеры:\\n{P}\")"
   ]
  },
  {
   "cell_type": "code",
   "execution_count": 16,
   "metadata": {},
   "outputs": [
    {
     "name": "stdout",
     "output_type": "stream",
     "text": [
      "Новые координаты пикселя:\n",
      "u=1011\n",
      "v=540\n"
     ]
    }
   ],
   "source": [
    "XYZ1 = np.matrix([[10],\n",
    "                [-10],\n",
    "                [100],\n",
    "                [1]])\n",
    "\n",
    "uvw = P.dot(XYZ1)\n",
    "\n",
    "print(f\"Новые координаты пикселя:\\nu={int(uvw[0]/uvw[2])}\\nv={int(uvw[1]/uvw[2])}\")"
   ]
  },
  {
   "cell_type": "markdown",
   "metadata": {},
   "source": [
    "### Задача №2"
   ]
  },
  {
   "cell_type": "markdown",
   "metadata": {},
   "source": [
    "Написать генератор пар двумерных точек для теста алгоритма,\n",
    "удовлетворяющих заданному заранее преобразованию гомографии H0. Используя\n",
    "прямое линейное преобразование (DLT) и SVD, написать программу, которая\n",
    "принимает на вход множество пар двумерных точек, и находит соответствующую\n",
    "этим парам матрицу гомографии H. Распечатать матрицы H0 и H."
   ]
  },
  {
   "cell_type": "code",
   "execution_count": 17,
   "metadata": {},
   "outputs": [
    {
     "data": {
      "text/plain": [
       "((73, 4), (0.6540880503144654, 1.9874213836477987))"
      ]
     },
     "execution_count": 17,
     "metadata": {},
     "output_type": "execute_result"
    }
   ],
   "source": [
    "import random\n",
    "import cv2\n",
    "random.seed(10)\n",
    "\n",
    "def generate_homogramm_pair(h0: np.matrix)-> tuple:\n",
    "    u0, v0 = random.randint(0, 100), random.randint(0, 100)\n",
    "    u0v0 = np.matrix([[u0],\n",
    "                    [v0],\n",
    "                    [1]])\n",
    "    uvw = h0.dot(u0v0)\n",
    "    return ((u0, v0), (float(uvw[0]/uvw[2]), float(uvw[1]/uvw[2])))\n",
    "\n",
    "\n",
    "h0 = np.matrix([[1, 7, 3],\n",
    "                [4, 5, 4],\n",
    "                [2, 1, 9]])\n",
    "\n",
    "generate_homogramm_pair(h0)"
   ]
  },
  {
   "cell_type": "code",
   "execution_count": 18,
   "metadata": {},
   "outputs": [],
   "source": [
    "l1 = []\n",
    "l2 = []\n",
    "for i in range(100):\n",
    "    points = generate_homogramm_pair(h0)\n",
    "    l1.append(points[0])\n",
    "    l2.append(points[1])"
   ]
  },
  {
   "cell_type": "code",
   "execution_count": 19,
   "metadata": {},
   "outputs": [],
   "source": [
    "def find_homography(points_source, points_target):\n",
    "    A  = construct_A(points_source, points_target)\n",
    "    u, s, vh = np.linalg.svd(A, full_matrices=True)\n",
    "    homography = vh[-1].reshape((3,3))\n",
    "    return homography/homography[2,2]\n",
    "\n",
    "def construct_A(points_source, points_target):\n",
    "    assert points_source.shape == points_target.shape, \"Shape does not match\"\n",
    "    num_points = points_source.shape[0]\n",
    "\n",
    "    matrices = []\n",
    "    for i in range(num_points):\n",
    "        partial_A = construct_A_partial(points_source[i], points_target[i])\n",
    "        matrices.append(partial_A)\n",
    "    return np.concatenate(matrices, axis=0)\n",
    "\n",
    "def construct_A_partial(point_source, point_target):\n",
    "    x, y, z = point_source[0], point_source[1], 1\n",
    "    x_t, y_t, z_t = point_target[0], point_target[1], 1\n",
    "\n",
    "    A_partial = np.array([\n",
    "        [0, 0, 0, -z_t*x, -z_t*y, -z_t*z, y_t*x, y_t*y, y_t*z],\n",
    "        [z_t*x, z_t*y, z_t*z, 0, 0, 0, -x_t*x, -x_t*y, -x_t*z]\n",
    "    ])\n",
    "    return A_partial\n",
    "\n"
   ]
  },
  {
   "cell_type": "code",
   "execution_count": 20,
   "metadata": {},
   "outputs": [
    {
     "data": {
      "text/plain": [
       "array([[0.11111111, 0.77777778, 0.33333333],\n",
       "       [0.44444444, 0.55555556, 0.44444444],\n",
       "       [0.22222222, 0.11111111, 1.        ]])"
      ]
     },
     "execution_count": 20,
     "metadata": {},
     "output_type": "execute_result"
    }
   ],
   "source": [
    "h = find_homography(np.array(l1), np.array(l2))\n",
    "h"
   ]
  },
  {
   "cell_type": "code",
   "execution_count": 21,
   "metadata": {},
   "outputs": [
    {
     "data": {
      "text/plain": [
       "array([[0.11111109, 0.77777763, 0.33333323],\n",
       "       [0.44444436, 0.55555544, 0.44444494],\n",
       "       [0.22222218, 0.11111109, 1.        ]])"
      ]
     },
     "execution_count": 21,
     "metadata": {},
     "output_type": "execute_result"
    }
   ],
   "source": [
    "h, status = cv2.findHomography(np.array(l1), np.array(l2))\n",
    "h"
   ]
  },
  {
   "cell_type": "code",
   "execution_count": 22,
   "metadata": {},
   "outputs": [
    {
     "data": {
      "text/plain": [
       "matrix([[1, 7, 3],\n",
       "        [4, 5, 4],\n",
       "        [2, 1, 9]])"
      ]
     },
     "execution_count": 22,
     "metadata": {},
     "output_type": "execute_result"
    }
   ],
   "source": [
    "h0"
   ]
  },
  {
   "cell_type": "markdown",
   "metadata": {},
   "source": [
    "Как видно, матрицы отличаются с точностью до константы (ну почти)"
   ]
  },
  {
   "cell_type": "markdown",
   "metadata": {},
   "source": [
    "### Задача №3"
   ]
  },
  {
   "cell_type": "markdown",
   "metadata": {},
   "source": [
    "Модифицировать генератор из Задачи 7 так, чтобы он выдавал n=1000\n",
    "соответствий, из которых 30% соответствуют заданному заранее преобразованию\n",
    "гомографии, а остальные взяты случайно (преобразованию гомографии не\n",
    "удовлетворяют). Реализовать нахождение преобразования гомографии H1,\n",
    "используя DLT и RANSAC. Распечатать H0 и H1.\n"
   ]
  },
  {
   "cell_type": "code",
   "execution_count": 23,
   "metadata": {},
   "outputs": [],
   "source": [
    "def generate_homogramm_pairs(h0: np.matrix, n=1000)-> tuple:\n",
    "    true_part = int(n*0.3)\n",
    "    false_part = n - true_part\n",
    "    l1 = []\n",
    "    l2 = []\n",
    "    for i in range(true_part):\n",
    "        u0, v0 = random.randint(0, 100), random.randint(0, 100)\n",
    "        u0v0 = np.matrix([[u0],\n",
    "                        [v0],\n",
    "                        [1]])\n",
    "        uvw = h0.dot(u0v0)\n",
    "        l1.append((u0, v0))\n",
    "        l2.append((float(uvw[0]/uvw[2]), float(uvw[1]/uvw[2])))\n",
    "    for i in range(false_part):\n",
    "        l1.append((random.randint(0, 100), random.randint(0, 100)))\n",
    "        l2.append((random.randint(0, 100), random.randint(0, 100)))\n",
    "    return np.array(l1), np.array(l2)"
   ]
  },
  {
   "cell_type": "code",
   "execution_count": 24,
   "metadata": {},
   "outputs": [
    {
     "data": {
      "text/plain": [
       "(array([[73, 80],\n",
       "        [61,  3],\n",
       "        [14, 37],\n",
       "        ...,\n",
       "        [14, 96],\n",
       "        [80, 55],\n",
       "        [33, 99]]),\n",
       " array([[ 2.70638298,  2.96170213],\n",
       "        [ 0.63432836,  1.96268657],\n",
       "        [ 3.72972973,  3.31081081],\n",
       "        ...,\n",
       "        [86.        , 84.        ],\n",
       "        [80.        , 37.        ],\n",
       "        [46.        , 99.        ]]))"
      ]
     },
     "execution_count": 24,
     "metadata": {},
     "output_type": "execute_result"
    }
   ],
   "source": [
    "h0 = np.matrix([[1, 7, 3],\n",
    "                [4, 5, 4],\n",
    "                [2, 1, 9]])\n",
    "\n",
    "generate_homogramm_pairs(h0)"
   ]
  },
  {
   "cell_type": "code",
   "execution_count": 25,
   "metadata": {},
   "outputs": [
    {
     "data": {
      "text/plain": [
       "array([[ 0.395091  ,  2.50647403, -3.19198375],\n",
       "       [ 1.43239166,  1.82230682, -2.72099647],\n",
       "       [ 0.71073998,  0.38625573,  1.        ]])"
      ]
     },
     "execution_count": 25,
     "metadata": {},
     "output_type": "execute_result"
    }
   ],
   "source": [
    "pairs = generate_homogramm_pairs(h0)\n",
    "h, status = cv2.findHomography(pairs[0], pairs[1], method=cv2.RANSAC)\n",
    "h"
   ]
  },
  {
   "cell_type": "code",
   "execution_count": 26,
   "metadata": {},
   "outputs": [
    {
     "data": {
      "text/plain": [
       "matrix([[1, 7, 3],\n",
       "        [4, 5, 4],\n",
       "        [2, 1, 9]])"
      ]
     },
     "execution_count": 26,
     "metadata": {},
     "output_type": "execute_result"
    }
   ],
   "source": [
    "h0"
   ]
  },
  {
   "cell_type": "markdown",
   "metadata": {},
   "source": [
    "### Задача №4"
   ]
  },
  {
   "cell_type": "markdown",
   "metadata": {},
   "source": [
    "Два изображения одной и той же сцены сделаны одной и той же\n",
    "камерой с такой же матрицей внутренних параметров, как в Задаче 6. Второй\n",
    "снимок сделан после поворота камеры на 30 градусов вокруг оси x относительно\n",
    "начала координат системы отсчета, связанной с камерой (без сдвига). Найти\n",
    "матрицу гомографии между двумя изображениями."
   ]
  },
  {
   "cell_type": "code",
   "execution_count": 27,
   "metadata": {},
   "outputs": [],
   "source": [
    "K = np.matrix([[400, 0, 960],\n",
    "                [0, 400, 540],\n",
    "                [0, 0, 1]])\n",
    "\n",
    "RT1 = np.matrix([[1, 0, 0, 0],\n",
    "                [0, math.cos(0), -math.sin(0), 0],\n",
    "                [0, math.sin(0), math.cos(0), 0]])\n",
    "\n",
    "RT2 = np.matrix([[1, 0, 0, 0],\n",
    "                [0, math.cos(math.pi/6), -math.sin(math.pi/6), 0],\n",
    "                [0, math.sin(math.pi/6), math.cos(math.pi/6), 0]])\n",
    "\n",
    "P1 = K.dot(RT1)\n",
    "P2 = K.dot(RT2)"
   ]
  },
  {
   "cell_type": "markdown",
   "metadata": {},
   "source": [
    "Для нахождения матрицы гомографии нужно по крайней мере 4 точки:"
   ]
  },
  {
   "cell_type": "code",
   "execution_count": 28,
   "metadata": {},
   "outputs": [],
   "source": [
    "XYZ1 = np.matrix([[10],\n",
    "                [10],\n",
    "                [100],\n",
    "                [1]])\n",
    "XYZ2 = np.matrix([[10],\n",
    "                [-10],\n",
    "                [100],\n",
    "                [1]])\n",
    "XYZ3 = np.matrix([[-10],\n",
    "                [10],\n",
    "                [100],\n",
    "                [1]])\n",
    "XYZ4 = np.matrix([[-10],\n",
    "                [-10],\n",
    "                [100],\n",
    "                [1]])\n",
    "\n",
    "points_3d = [XYZ1, XYZ2, XYZ3, XYZ4]\n",
    "l1 = np.array([P1.dot(i) for i in points_3d])\n",
    "l2 = np.array([P1.dot(i) for i in points_3d])"
   ]
  },
  {
   "cell_type": "code",
   "execution_count": 29,
   "metadata": {},
   "outputs": [
    {
     "name": "stdout",
     "output_type": "stream",
     "text": [
      "Матрица гомографии между двумя изображениями:\n",
      "[[ 1.00000000e+00  0.00000000e+00 -1.96911379e-13]\n",
      " [ 0.00000000e+00  1.00000000e+00 -2.95367069e-13]\n",
      " [ 0.00000000e+00  0.00000000e+00  1.00000000e+00]]\n"
     ]
    }
   ],
   "source": [
    "h, status = cv2.findHomography(l1, l2)\n",
    "print(f\"Матрица гомографии между двумя изображениями:\\n{h}\")"
   ]
  }
 ],
 "metadata": {
  "kernelspec": {
   "display_name": "Python 3.9.11 64-bit",
   "language": "python",
   "name": "python3"
  },
  "language_info": {
   "codemirror_mode": {
    "name": "ipython",
    "version": 3
   },
   "file_extension": ".py",
   "mimetype": "text/x-python",
   "name": "python",
   "nbconvert_exporter": "python",
   "pygments_lexer": "ipython3",
   "version": "3.9.11"
  },
  "orig_nbformat": 4,
  "vscode": {
   "interpreter": {
    "hash": "ba4c651cdc5ec17c511bce19f294202fdc45305f9de1f927c569f32faa173ead"
   }
  }
 },
 "nbformat": 4,
 "nbformat_minor": 2
}
